{
 "cells": [
  {
   "cell_type": "code",
   "execution_count": null,
   "metadata": {},
   "outputs": [],
   "source": [
    "import glob\n",
    "import numpy as np\n",
    "from cv2 import imread, imwrite\n",
    "imgs, heights, widths = [], [], [] \n",
    "for f in glob.glob(\"picture_3/*.jpg\"):\n",
    "    img = imread(f, -1)  # 参数-1表示返回原图\n",
    "    h, w = img.shape[:2]  # 切片\n",
    "    heights.append(h)\n",
    "    widths.append(w)\n",
    "    imgs.append(img)\n",
    "    min_height = min(heights)\n",
    "min_width = min(widths)\n",
    "for i, x in enumerate(imgs):\n",
    "    # i为每个图像的序号, x为每个图像的多维像素矩阵\n",
    "    imgs[i] = x[:min_height:3, :min_width:3]  # 切片 以步长为3\n",
    "    \n",
    "img0 = np.concatenate(imgs[:3], 1)  # 横着拼三个\n",
    "img1 = np.concatenate(imgs[3:6], 1)  # 横着拼三个\n",
    "img2 = np.concatenate(imgs[6:], 1)  # 横着拼三个\n",
    "img9 = np.concatenate([img0, img1, img2], 0)  # 竖着拼起来\n",
    "imwrite(\"result_3x3.jpg\", img9)"
   ]
  }
 ],
 "metadata": {
  "kernelspec": {
   "display_name": "Python 3",
   "language": "python",
   "name": "python3"
  },
  "language_info": {
   "codemirror_mode": {
    "name": "ipython",
    "version": 3
   },
   "file_extension": ".py",
   "mimetype": "text/x-python",
   "name": "python",
   "nbconvert_exporter": "python",
   "pygments_lexer": "ipython3",
   "version": "3.7.4"
  }
 },
 "nbformat": 4,
 "nbformat_minor": 2
}
