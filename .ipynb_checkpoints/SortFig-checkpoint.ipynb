{
 "cells": [
  {
   "cell_type": "code",
   "execution_count": 4,
   "metadata": {},
   "outputs": [
    {
     "ename": "SyntaxError",
     "evalue": "invalid syntax (<ipython-input-4-f285d9615929>, line 6)",
     "output_type": "error",
     "traceback": [
      "\u001b[0;36m  File \u001b[0;32m\"<ipython-input-4-f285d9615929>\"\u001b[0;36m, line \u001b[0;32m6\u001b[0m\n\u001b[0;31m    for f in glob.glob('/Users/Junhao/data/Project/Volumn_fMRI/HCP/Result/MNI_XYZ2MASK/3mm/FC_Fig/front/*.png')\u001b[0m\n\u001b[0m                                                                                                               ^\u001b[0m\n\u001b[0;31mSyntaxError\u001b[0m\u001b[0;31m:\u001b[0m invalid syntax\n"
     ]
    }
   ],
   "source": [
    "import glob\n",
    "import numpy as np\n",
    "from cv2 import imread, imwrite\n",
    "imgs, heights, widths = [], [], [] \n",
    "# /Users/Junhao/data/Project/Volumn_fMRI/HCP/Result/MNI_XYZ2MASK/3mm/FC_Fig/front\n",
    "files=glob.glob('/Users/Junhao/data/Project/Volumn_fMRI/HCP/Result/MNI_XYZ2MASK/3mm/FC_Fig/front/*.png');\n",
    "for f in files\n",
    "    img = imread(f, -1)  # 参数-1表示返回原图\n",
    "    h, w = img.shape[:2]  # 切片\n",
    "    heights.append(h)\n",
    "    widths.append(w)\n",
    "    imgs.append(img)\n",
    "    min_height = min(heights)\n",
    "    min_width = min(widths)\n",
    "    \n",
    "    \n",
    "for i, x in enumerate(imgs):\n",
    "    # i为每个图像的序号, x为每个图像的多维像素矩阵\n",
    "    imgs[i] = x[:min_height:3, :min_width:3]  # 切片 以步长为3\n",
    "    \n",
    "# img0 = np.concatenate(imgs[:3], 1)  # 横着拼三个\n",
    "# img1 = np.concatenate(imgs[3:6], 1)  # 横着拼三个\n",
    "# img2 = np.concatenate(imgs[6:], 1)  # 横着拼三个\n",
    "# img9 = np.concatenate([img0, img1, img2], 0)  # 竖着拼起来\\\n",
    "img0 = np.concatenate(imgs[:2], 1)  # 横着拼三个\n",
    "img1 = np.concatenate(imgs[2:4], 1)  # 横着拼三个\n",
    "img4= np.concatenate([img0, img1], 0)  # 竖着拼起来\\\n",
    "imwrite('/Users/Junhao/data/Project/Volumn_fMRI/HCP/Result/MNI_XYZ2MASK/3mm/FC_Fig/test.png', img4)"
   ]
  },
  {
   "cell_type": "code",
   "execution_count": 15,
   "metadata": {},
   "outputs": [
    {
     "name": "stdout",
     "output_type": "stream",
     "text": [
      "/Users/Junhao/data/Project/Volumn_fMRI/HCP/Result/MNI_XYZ2MASK/3mm/FC_Fig/front/RHS_LHEMI_FC_vol2surf.func_overlay.png\n"
     ]
    }
   ],
   "source": [
    "import glob\n",
    "a=glob.glob('/Users/Junhao/data/Project/Volumn_fMRI/HCP/Result/MNI_XYZ2MASK/3mm/FC_Fig/front/*.png')\n",
    "f=a[1]\n",
    "print(f)"
   ]
  },
  {
   "cell_type": "code",
   "execution_count": 12,
   "metadata": {},
   "outputs": [
    {
     "ename": "NameError",
     "evalue": "name 'var' is not defined",
     "output_type": "error",
     "traceback": [
      "\u001b[0;31m---------------------------------------------------------------------------\u001b[0m",
      "\u001b[0;31mNameError\u001b[0m                                 Traceback (most recent call last)",
      "\u001b[0;32m<ipython-input-12-c933903f1b7d>\u001b[0m in \u001b[0;36m<module>\u001b[0;34m\u001b[0m\n\u001b[0;32m----> 1\u001b[0;31m \u001b[0mvar\u001b[0m\u001b[0;34m(\u001b[0m\u001b[0ma\u001b[0m\u001b[0;34m)\u001b[0m\u001b[0;34m\u001b[0m\u001b[0;34m\u001b[0m\u001b[0m\n\u001b[0m",
      "\u001b[0;31mNameError\u001b[0m: name 'var' is not defined"
     ]
    }
   ],
   "source": [
    "f="
   ]
  },
  {
   "cell_type": "code",
   "execution_count": null,
   "metadata": {},
   "outputs": [],
   "source": []
  }
 ],
 "metadata": {
  "kernelspec": {
   "display_name": "Python 3",
   "language": "python",
   "name": "python3"
  },
  "language_info": {
   "codemirror_mode": {
    "name": "ipython",
    "version": 3
   },
   "file_extension": ".py",
   "mimetype": "text/x-python",
   "name": "python",
   "nbconvert_exporter": "python",
   "pygments_lexer": "ipython3",
   "version": "3.7.4"
  }
 },
 "nbformat": 4,
 "nbformat_minor": 2
}
